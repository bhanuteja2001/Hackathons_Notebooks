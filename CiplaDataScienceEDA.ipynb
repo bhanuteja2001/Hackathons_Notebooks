{
  "nbformat": 4,
  "nbformat_minor": 0,
  "metadata": {
    "colab": {
      "name": "CiplaDataScience.ipynb",
      "provenance": [],
      "authorship_tag": "ABX9TyPZwWO+SRppkWVNIPROphLv",
      "include_colab_link": true
    },
    "kernelspec": {
      "name": "python3",
      "display_name": "Python 3"
    }
  },
  "cells": [
    {
      "cell_type": "markdown",
      "metadata": {
        "id": "view-in-github",
        "colab_type": "text"
      },
      "source": [
        "<a href=\"https://colab.research.google.com/github/bhanuteja2001/Hackathons_Notebooks/blob/master/CiplaDataScienceEDA.ipynb\" target=\"_parent\"><img src=\"https://colab.research.google.com/assets/colab-badge.svg\" alt=\"Open In Colab\"/></a>"
      ]
    },
    {
      "cell_type": "code",
      "metadata": {
        "id": "XAISzQCH3pZt",
        "colab": {
          "base_uri": "https://localhost:8080/"
        },
        "outputId": "7b1bf3e4-8074-48bb-e2f9-cc781b044c80"
      },
      "source": [
        "from google.colab import drive\n",
        "drive.mount('/content/drive')"
      ],
      "execution_count": 1,
      "outputs": [
        {
          "output_type": "stream",
          "text": [
            "Mounted at /content/drive\n"
          ],
          "name": "stdout"
        }
      ]
    },
    {
      "cell_type": "code",
      "metadata": {
        "colab": {
          "base_uri": "https://localhost:8080/"
        },
        "id": "Q0ntDzEgbq3G",
        "outputId": "a4361b71-3262-4b04-e367-ec621d9937ec"
      },
      "source": [
        "cd /content/drive/MyDrive/Cipla DataScientist/dataset"
      ],
      "execution_count": 3,
      "outputs": [
        {
          "output_type": "stream",
          "text": [
            "/content/drive/MyDrive/Cipla DataScientist/dataset\n"
          ],
          "name": "stdout"
        }
      ]
    },
    {
      "cell_type": "code",
      "metadata": {
        "colab": {
          "base_uri": "https://localhost:8080/"
        },
        "id": "Jsw2eSZxb7ml",
        "outputId": "b50b4019-5efe-4f37-8788-2296090282c3"
      },
      "source": [
        "ls"
      ],
      "execution_count": 4,
      "outputs": [
        {
          "output_type": "stream",
          "text": [
            "sample_submission.csv  test.csv  train.csv\n"
          ],
          "name": "stdout"
        }
      ]
    },
    {
      "cell_type": "code",
      "metadata": {
        "id": "q5gs1mvIb80E"
      },
      "source": [
        "import pandas as pd"
      ],
      "execution_count": 5,
      "outputs": []
    },
    {
      "cell_type": "code",
      "metadata": {
        "id": "LrWCOJAJjfos"
      },
      "source": [
        "import seaborn as sns\n",
        "import matplotlib.pyplot as plt"
      ],
      "execution_count": 39,
      "outputs": []
    },
    {
      "cell_type": "code",
      "metadata": {
        "colab": {
          "base_uri": "https://localhost:8080/",
          "height": 360
        },
        "id": "cqy9_Yg5cAYj",
        "outputId": "08782c29-9a06-497a-87b8-9d3abac2cf55"
      },
      "source": [
        "Train = pd.read_csv(\"train.csv\")\n",
        "Train.head()"
      ],
      "execution_count": 11,
      "outputs": [
        {
          "output_type": "execute_result",
          "data": {
            "text/html": [
              "<div>\n",
              "<style scoped>\n",
              "    .dataframe tbody tr th:only-of-type {\n",
              "        vertical-align: middle;\n",
              "    }\n",
              "\n",
              "    .dataframe tbody tr th {\n",
              "        vertical-align: top;\n",
              "    }\n",
              "\n",
              "    .dataframe thead th {\n",
              "        text-align: right;\n",
              "    }\n",
              "</style>\n",
              "<table border=\"1\" class=\"dataframe\">\n",
              "  <thead>\n",
              "    <tr style=\"text-align: right;\">\n",
              "      <th></th>\n",
              "      <th>Customer ID</th>\n",
              "      <th>Name</th>\n",
              "      <th>Gender</th>\n",
              "      <th>Age</th>\n",
              "      <th>Income (USD)</th>\n",
              "      <th>Income Stability</th>\n",
              "      <th>Profession</th>\n",
              "      <th>Type of Employment</th>\n",
              "      <th>Location</th>\n",
              "      <th>Loan Amount Request (USD)</th>\n",
              "      <th>Current Loan Expenses (USD)</th>\n",
              "      <th>Expense Type 1</th>\n",
              "      <th>Expense Type 2</th>\n",
              "      <th>Dependents</th>\n",
              "      <th>Credit Score</th>\n",
              "      <th>No. of Defaults</th>\n",
              "      <th>Has Active Credit Card</th>\n",
              "      <th>Property ID</th>\n",
              "      <th>Property Age</th>\n",
              "      <th>Property Type</th>\n",
              "      <th>Property Location</th>\n",
              "      <th>Co-Applicant</th>\n",
              "      <th>Property Price</th>\n",
              "      <th>Loan Sanction Amount (USD)</th>\n",
              "    </tr>\n",
              "  </thead>\n",
              "  <tbody>\n",
              "    <tr>\n",
              "      <th>0</th>\n",
              "      <td>C-36995</td>\n",
              "      <td>Frederica Shealy</td>\n",
              "      <td>F</td>\n",
              "      <td>56</td>\n",
              "      <td>1933.05</td>\n",
              "      <td>Low</td>\n",
              "      <td>Working</td>\n",
              "      <td>Sales staff</td>\n",
              "      <td>Semi-Urban</td>\n",
              "      <td>72809.58</td>\n",
              "      <td>241.08</td>\n",
              "      <td>N</td>\n",
              "      <td>N</td>\n",
              "      <td>3.0</td>\n",
              "      <td>809.44</td>\n",
              "      <td>0</td>\n",
              "      <td>NaN</td>\n",
              "      <td>746</td>\n",
              "      <td>1933.05</td>\n",
              "      <td>4</td>\n",
              "      <td>Rural</td>\n",
              "      <td>1</td>\n",
              "      <td>119933.46</td>\n",
              "      <td>54607.18</td>\n",
              "    </tr>\n",
              "    <tr>\n",
              "      <th>1</th>\n",
              "      <td>C-33999</td>\n",
              "      <td>America Calderone</td>\n",
              "      <td>M</td>\n",
              "      <td>32</td>\n",
              "      <td>4952.91</td>\n",
              "      <td>Low</td>\n",
              "      <td>Working</td>\n",
              "      <td>NaN</td>\n",
              "      <td>Semi-Urban</td>\n",
              "      <td>46837.47</td>\n",
              "      <td>495.81</td>\n",
              "      <td>N</td>\n",
              "      <td>Y</td>\n",
              "      <td>1.0</td>\n",
              "      <td>780.40</td>\n",
              "      <td>0</td>\n",
              "      <td>Unpossessed</td>\n",
              "      <td>608</td>\n",
              "      <td>4952.91</td>\n",
              "      <td>2</td>\n",
              "      <td>Rural</td>\n",
              "      <td>1</td>\n",
              "      <td>54791.00</td>\n",
              "      <td>37469.98</td>\n",
              "    </tr>\n",
              "    <tr>\n",
              "      <th>2</th>\n",
              "      <td>C-3770</td>\n",
              "      <td>Rosetta Verne</td>\n",
              "      <td>F</td>\n",
              "      <td>65</td>\n",
              "      <td>988.19</td>\n",
              "      <td>High</td>\n",
              "      <td>Pensioner</td>\n",
              "      <td>NaN</td>\n",
              "      <td>Semi-Urban</td>\n",
              "      <td>45593.04</td>\n",
              "      <td>171.95</td>\n",
              "      <td>N</td>\n",
              "      <td>Y</td>\n",
              "      <td>1.0</td>\n",
              "      <td>833.15</td>\n",
              "      <td>0</td>\n",
              "      <td>Unpossessed</td>\n",
              "      <td>546</td>\n",
              "      <td>988.19</td>\n",
              "      <td>2</td>\n",
              "      <td>Urban</td>\n",
              "      <td>0</td>\n",
              "      <td>72440.58</td>\n",
              "      <td>36474.43</td>\n",
              "    </tr>\n",
              "    <tr>\n",
              "      <th>3</th>\n",
              "      <td>C-26480</td>\n",
              "      <td>Zoe Chitty</td>\n",
              "      <td>F</td>\n",
              "      <td>65</td>\n",
              "      <td>NaN</td>\n",
              "      <td>High</td>\n",
              "      <td>Pensioner</td>\n",
              "      <td>NaN</td>\n",
              "      <td>Rural</td>\n",
              "      <td>80057.92</td>\n",
              "      <td>298.54</td>\n",
              "      <td>N</td>\n",
              "      <td>Y</td>\n",
              "      <td>2.0</td>\n",
              "      <td>832.70</td>\n",
              "      <td>1</td>\n",
              "      <td>Unpossessed</td>\n",
              "      <td>890</td>\n",
              "      <td>NaN</td>\n",
              "      <td>2</td>\n",
              "      <td>Semi-Urban</td>\n",
              "      <td>1</td>\n",
              "      <td>121441.51</td>\n",
              "      <td>56040.54</td>\n",
              "    </tr>\n",
              "    <tr>\n",
              "      <th>4</th>\n",
              "      <td>C-23459</td>\n",
              "      <td>Afton Venema</td>\n",
              "      <td>F</td>\n",
              "      <td>31</td>\n",
              "      <td>2614.77</td>\n",
              "      <td>Low</td>\n",
              "      <td>Working</td>\n",
              "      <td>High skill tech staff</td>\n",
              "      <td>Semi-Urban</td>\n",
              "      <td>113858.89</td>\n",
              "      <td>491.41</td>\n",
              "      <td>N</td>\n",
              "      <td>Y</td>\n",
              "      <td>NaN</td>\n",
              "      <td>745.55</td>\n",
              "      <td>1</td>\n",
              "      <td>Active</td>\n",
              "      <td>715</td>\n",
              "      <td>2614.77</td>\n",
              "      <td>4</td>\n",
              "      <td>Semi-Urban</td>\n",
              "      <td>1</td>\n",
              "      <td>208567.91</td>\n",
              "      <td>74008.28</td>\n",
              "    </tr>\n",
              "  </tbody>\n",
              "</table>\n",
              "</div>"
            ],
            "text/plain": [
              "  Customer ID               Name  ... Property Price  Loan Sanction Amount (USD)\n",
              "0     C-36995   Frederica Shealy  ...      119933.46                    54607.18\n",
              "1     C-33999  America Calderone  ...       54791.00                    37469.98\n",
              "2      C-3770      Rosetta Verne  ...       72440.58                    36474.43\n",
              "3     C-26480         Zoe Chitty  ...      121441.51                    56040.54\n",
              "4     C-23459       Afton Venema  ...      208567.91                    74008.28\n",
              "\n",
              "[5 rows x 24 columns]"
            ]
          },
          "metadata": {
            "tags": []
          },
          "execution_count": 11
        }
      ]
    },
    {
      "cell_type": "markdown",
      "metadata": {
        "id": "OxFFA7uydEZ-"
      },
      "source": [
        "## EDA"
      ]
    },
    {
      "cell_type": "code",
      "metadata": {
        "colab": {
          "base_uri": "https://localhost:8080/"
        },
        "id": "33OAu70WkKug",
        "outputId": "851cc00c-5ed9-48bd-8a14-e300ab44c898"
      },
      "source": [
        "Train.shape"
      ],
      "execution_count": 44,
      "outputs": [
        {
          "output_type": "execute_result",
          "data": {
            "text/plain": [
              "(30000, 24)"
            ]
          },
          "metadata": {
            "tags": []
          },
          "execution_count": 44
        }
      ]
    },
    {
      "cell_type": "code",
      "metadata": {
        "colab": {
          "base_uri": "https://localhost:8080/"
        },
        "id": "nDC1mTVljFzY",
        "outputId": "b0041312-67f5-433b-c8aa-4b2ad1aca697"
      },
      "source": [
        "Train.dtypes"
      ],
      "execution_count": 33,
      "outputs": [
        {
          "output_type": "execute_result",
          "data": {
            "text/plain": [
              "Customer ID                     object\n",
              "Name                            object\n",
              "Gender                          object\n",
              "Age                              int64\n",
              "Income (USD)                   float64\n",
              "Income Stability                object\n",
              "Profession                      object\n",
              "Type of Employment              object\n",
              "Location                        object\n",
              "Loan Amount Request (USD)      float64\n",
              "Current Loan Expenses (USD)    float64\n",
              "Expense Type 1                  object\n",
              "Expense Type 2                  object\n",
              "Dependents                     float64\n",
              "Credit Score                   float64\n",
              "No. of Defaults                  int64\n",
              "Has Active Credit Card          object\n",
              "Property ID                      int64\n",
              "Property Age                   float64\n",
              "Property Type                    int64\n",
              "Property Location               object\n",
              "Co-Applicant                     int64\n",
              "Property Price                 float64\n",
              "Loan Sanction Amount (USD)     float64\n",
              "dtype: object"
            ]
          },
          "metadata": {
            "tags": []
          },
          "execution_count": 33
        }
      ]
    },
    {
      "cell_type": "code",
      "metadata": {
        "colab": {
          "base_uri": "https://localhost:8080/",
          "height": 368
        },
        "id": "AjsxVH6reNrf",
        "outputId": "250f2492-2b75-40eb-b590-a3c7bdcf73a3"
      },
      "source": [
        "Train.describe()"
      ],
      "execution_count": 34,
      "outputs": [
        {
          "output_type": "execute_result",
          "data": {
            "text/html": [
              "<div>\n",
              "<style scoped>\n",
              "    .dataframe tbody tr th:only-of-type {\n",
              "        vertical-align: middle;\n",
              "    }\n",
              "\n",
              "    .dataframe tbody tr th {\n",
              "        vertical-align: top;\n",
              "    }\n",
              "\n",
              "    .dataframe thead th {\n",
              "        text-align: right;\n",
              "    }\n",
              "</style>\n",
              "<table border=\"1\" class=\"dataframe\">\n",
              "  <thead>\n",
              "    <tr style=\"text-align: right;\">\n",
              "      <th></th>\n",
              "      <th>Age</th>\n",
              "      <th>Income (USD)</th>\n",
              "      <th>Loan Amount Request (USD)</th>\n",
              "      <th>Current Loan Expenses (USD)</th>\n",
              "      <th>Dependents</th>\n",
              "      <th>Credit Score</th>\n",
              "      <th>No. of Defaults</th>\n",
              "      <th>Property ID</th>\n",
              "      <th>Property Age</th>\n",
              "      <th>Property Type</th>\n",
              "      <th>Co-Applicant</th>\n",
              "      <th>Property Price</th>\n",
              "      <th>Loan Sanction Amount (USD)</th>\n",
              "    </tr>\n",
              "  </thead>\n",
              "  <tbody>\n",
              "    <tr>\n",
              "      <th>count</th>\n",
              "      <td>30000.000000</td>\n",
              "      <td>2.542400e+04</td>\n",
              "      <td>30000.000000</td>\n",
              "      <td>29828.000000</td>\n",
              "      <td>27507.000000</td>\n",
              "      <td>28297.000000</td>\n",
              "      <td>30000.000000</td>\n",
              "      <td>30000.000000</td>\n",
              "      <td>2.515000e+04</td>\n",
              "      <td>30000.000000</td>\n",
              "      <td>30000.000000</td>\n",
              "      <td>3.000000e+04</td>\n",
              "      <td>29660.000000</td>\n",
              "    </tr>\n",
              "    <tr>\n",
              "      <th>mean</th>\n",
              "      <td>40.092300</td>\n",
              "      <td>2.630574e+03</td>\n",
              "      <td>88826.333855</td>\n",
              "      <td>400.936876</td>\n",
              "      <td>2.253027</td>\n",
              "      <td>739.885381</td>\n",
              "      <td>0.193933</td>\n",
              "      <td>501.934700</td>\n",
              "      <td>2.631119e+03</td>\n",
              "      <td>2.460067</td>\n",
              "      <td>-4.743867</td>\n",
              "      <td>1.317597e+05</td>\n",
              "      <td>47649.342208</td>\n",
              "    </tr>\n",
              "    <tr>\n",
              "      <th>std</th>\n",
              "      <td>16.045129</td>\n",
              "      <td>1.126272e+04</td>\n",
              "      <td>59536.949605</td>\n",
              "      <td>242.545375</td>\n",
              "      <td>0.951162</td>\n",
              "      <td>72.163846</td>\n",
              "      <td>0.395384</td>\n",
              "      <td>288.158086</td>\n",
              "      <td>1.132268e+04</td>\n",
              "      <td>1.118562</td>\n",
              "      <td>74.614593</td>\n",
              "      <td>9.354955e+04</td>\n",
              "      <td>48221.146686</td>\n",
              "    </tr>\n",
              "    <tr>\n",
              "      <th>min</th>\n",
              "      <td>18.000000</td>\n",
              "      <td>3.777000e+02</td>\n",
              "      <td>6048.240000</td>\n",
              "      <td>-999.000000</td>\n",
              "      <td>1.000000</td>\n",
              "      <td>580.000000</td>\n",
              "      <td>0.000000</td>\n",
              "      <td>1.000000</td>\n",
              "      <td>3.777000e+02</td>\n",
              "      <td>1.000000</td>\n",
              "      <td>-999.000000</td>\n",
              "      <td>-9.990000e+02</td>\n",
              "      <td>-999.000000</td>\n",
              "    </tr>\n",
              "    <tr>\n",
              "      <th>25%</th>\n",
              "      <td>25.000000</td>\n",
              "      <td>1.650457e+03</td>\n",
              "      <td>41177.755000</td>\n",
              "      <td>247.667500</td>\n",
              "      <td>2.000000</td>\n",
              "      <td>681.880000</td>\n",
              "      <td>0.000000</td>\n",
              "      <td>251.000000</td>\n",
              "      <td>1.650450e+03</td>\n",
              "      <td>1.000000</td>\n",
              "      <td>1.000000</td>\n",
              "      <td>6.057216e+04</td>\n",
              "      <td>0.000000</td>\n",
              "    </tr>\n",
              "    <tr>\n",
              "      <th>50%</th>\n",
              "      <td>40.000000</td>\n",
              "      <td>2.222435e+03</td>\n",
              "      <td>75128.075000</td>\n",
              "      <td>375.205000</td>\n",
              "      <td>2.000000</td>\n",
              "      <td>739.820000</td>\n",
              "      <td>0.000000</td>\n",
              "      <td>504.000000</td>\n",
              "      <td>2.223250e+03</td>\n",
              "      <td>2.000000</td>\n",
              "      <td>1.000000</td>\n",
              "      <td>1.099936e+05</td>\n",
              "      <td>35209.395000</td>\n",
              "    </tr>\n",
              "    <tr>\n",
              "      <th>75%</th>\n",
              "      <td>55.000000</td>\n",
              "      <td>3.090593e+03</td>\n",
              "      <td>119964.605000</td>\n",
              "      <td>521.292500</td>\n",
              "      <td>3.000000</td>\n",
              "      <td>799.120000</td>\n",
              "      <td>0.000000</td>\n",
              "      <td>751.000000</td>\n",
              "      <td>3.091407e+03</td>\n",
              "      <td>3.000000</td>\n",
              "      <td>1.000000</td>\n",
              "      <td>1.788807e+05</td>\n",
              "      <td>74261.250000</td>\n",
              "    </tr>\n",
              "    <tr>\n",
              "      <th>max</th>\n",
              "      <td>65.000000</td>\n",
              "      <td>1.777460e+06</td>\n",
              "      <td>621497.820000</td>\n",
              "      <td>3840.880000</td>\n",
              "      <td>14.000000</td>\n",
              "      <td>896.260000</td>\n",
              "      <td>1.000000</td>\n",
              "      <td>999.000000</td>\n",
              "      <td>1.777460e+06</td>\n",
              "      <td>4.000000</td>\n",
              "      <td>1.000000</td>\n",
              "      <td>1.077967e+06</td>\n",
              "      <td>481907.320000</td>\n",
              "    </tr>\n",
              "  </tbody>\n",
              "</table>\n",
              "</div>"
            ],
            "text/plain": [
              "                Age  Income (USD)  ...  Property Price  Loan Sanction Amount (USD)\n",
              "count  30000.000000  2.542400e+04  ...    3.000000e+04                29660.000000\n",
              "mean      40.092300  2.630574e+03  ...    1.317597e+05                47649.342208\n",
              "std       16.045129  1.126272e+04  ...    9.354955e+04                48221.146686\n",
              "min       18.000000  3.777000e+02  ...   -9.990000e+02                 -999.000000\n",
              "25%       25.000000  1.650457e+03  ...    6.057216e+04                    0.000000\n",
              "50%       40.000000  2.222435e+03  ...    1.099936e+05                35209.395000\n",
              "75%       55.000000  3.090593e+03  ...    1.788807e+05                74261.250000\n",
              "max       65.000000  1.777460e+06  ...    1.077967e+06               481907.320000\n",
              "\n",
              "[8 rows x 13 columns]"
            ]
          },
          "metadata": {
            "tags": []
          },
          "execution_count": 34
        }
      ]
    },
    {
      "cell_type": "code",
      "metadata": {
        "colab": {
          "base_uri": "https://localhost:8080/",
          "height": 207
        },
        "id": "Mepmqs8AjSKH",
        "outputId": "b11e9bf6-fe57-4371-c2b2-05c62a469574"
      },
      "source": [
        "Train.describe(include='object')"
      ],
      "execution_count": 35,
      "outputs": [
        {
          "output_type": "execute_result",
          "data": {
            "text/html": [
              "<div>\n",
              "<style scoped>\n",
              "    .dataframe tbody tr th:only-of-type {\n",
              "        vertical-align: middle;\n",
              "    }\n",
              "\n",
              "    .dataframe tbody tr th {\n",
              "        vertical-align: top;\n",
              "    }\n",
              "\n",
              "    .dataframe thead th {\n",
              "        text-align: right;\n",
              "    }\n",
              "</style>\n",
              "<table border=\"1\" class=\"dataframe\">\n",
              "  <thead>\n",
              "    <tr style=\"text-align: right;\">\n",
              "      <th></th>\n",
              "      <th>Customer ID</th>\n",
              "      <th>Name</th>\n",
              "      <th>Gender</th>\n",
              "      <th>Income Stability</th>\n",
              "      <th>Profession</th>\n",
              "      <th>Type of Employment</th>\n",
              "      <th>Location</th>\n",
              "      <th>Expense Type 1</th>\n",
              "      <th>Expense Type 2</th>\n",
              "      <th>Has Active Credit Card</th>\n",
              "      <th>Property Location</th>\n",
              "    </tr>\n",
              "  </thead>\n",
              "  <tbody>\n",
              "    <tr>\n",
              "      <th>count</th>\n",
              "      <td>30000</td>\n",
              "      <td>30000</td>\n",
              "      <td>29947</td>\n",
              "      <td>28317</td>\n",
              "      <td>30000</td>\n",
              "      <td>22730</td>\n",
              "      <td>30000</td>\n",
              "      <td>30000</td>\n",
              "      <td>30000</td>\n",
              "      <td>28434</td>\n",
              "      <td>29644</td>\n",
              "    </tr>\n",
              "    <tr>\n",
              "      <th>unique</th>\n",
              "      <td>30000</td>\n",
              "      <td>30000</td>\n",
              "      <td>2</td>\n",
              "      <td>2</td>\n",
              "      <td>8</td>\n",
              "      <td>18</td>\n",
              "      <td>3</td>\n",
              "      <td>2</td>\n",
              "      <td>2</td>\n",
              "      <td>3</td>\n",
              "      <td>3</td>\n",
              "    </tr>\n",
              "    <tr>\n",
              "      <th>top</th>\n",
              "      <td>C-21499</td>\n",
              "      <td>Sadie Pelosi</td>\n",
              "      <td>M</td>\n",
              "      <td>Low</td>\n",
              "      <td>Working</td>\n",
              "      <td>Laborers</td>\n",
              "      <td>Semi-Urban</td>\n",
              "      <td>N</td>\n",
              "      <td>Y</td>\n",
              "      <td>Active</td>\n",
              "      <td>Semi-Urban</td>\n",
              "    </tr>\n",
              "    <tr>\n",
              "      <th>freq</th>\n",
              "      <td>1</td>\n",
              "      <td>1</td>\n",
              "      <td>15053</td>\n",
              "      <td>25751</td>\n",
              "      <td>16926</td>\n",
              "      <td>5578</td>\n",
              "      <td>21563</td>\n",
              "      <td>19214</td>\n",
              "      <td>20180</td>\n",
              "      <td>9771</td>\n",
              "      <td>10387</td>\n",
              "    </tr>\n",
              "  </tbody>\n",
              "</table>\n",
              "</div>"
            ],
            "text/plain": [
              "       Customer ID          Name  ... Has Active Credit Card Property Location\n",
              "count        30000         30000  ...                  28434             29644\n",
              "unique       30000         30000  ...                      3                 3\n",
              "top        C-21499  Sadie Pelosi  ...                 Active        Semi-Urban\n",
              "freq             1             1  ...                   9771             10387\n",
              "\n",
              "[4 rows x 11 columns]"
            ]
          },
          "metadata": {
            "tags": []
          },
          "execution_count": 35
        }
      ]
    },
    {
      "cell_type": "code",
      "metadata": {
        "colab": {
          "base_uri": "https://localhost:8080/"
        },
        "id": "8lw-4OWGj_O0",
        "outputId": "d5bd5392-f90e-423c-f69c-d8a4c7e60e1b"
      },
      "source": [
        "## Number of null variables\n",
        "Train[Train.columns[Train.isnull().any()]].isnull().sum()/30000 * 100"
      ],
      "execution_count": 52,
      "outputs": [
        {
          "output_type": "execute_result",
          "data": {
            "text/plain": [
              "Gender                          0.176667\n",
              "Income (USD)                   15.253333\n",
              "Income Stability                5.610000\n",
              "Type of Employment             24.233333\n",
              "Current Loan Expenses (USD)     0.573333\n",
              "Dependents                      8.310000\n",
              "Credit Score                    5.676667\n",
              "Has Active Credit Card          5.220000\n",
              "Property Age                   16.166667\n",
              "Property Location               1.186667\n",
              "Loan Sanction Amount (USD)      1.133333\n",
              "dtype: float64"
            ]
          },
          "metadata": {
            "tags": []
          },
          "execution_count": 52
        }
      ]
    },
    {
      "cell_type": "code",
      "metadata": {
        "id": "5s8pK2MIkoqR"
      },
      "source": [
        "improve_columns = [\"Income (USD)\",\"Type of Employment\",\"Property Age\"]  ## These columns need improvement\n",
        "#remove all the rows where the value is null from all the columns except these"
      ],
      "execution_count": 53,
      "outputs": []
    },
    {
      "cell_type": "code",
      "metadata": {
        "colab": {
          "base_uri": "https://localhost:8080/",
          "height": 803
        },
        "id": "XirG0j1djYfh",
        "outputId": "0f1b3354-2e21-425f-af28-add94fbf7695"
      },
      "source": [
        "## int64 type columns\n",
        "for column in Train.select_dtypes(include='int64'):\n",
        "    if Train[column].nunique() < 10:\n",
        "        sns.countplot(y=column, data=Train)\n",
        "        plt.show()\n",
        "\n",
        "## remove all the co-applicants with negative value\n",
        "## Vast difference in No of Defaults column"
      ],
      "execution_count": 54,
      "outputs": [
        {
          "output_type": "display_data",
          "data": {
            "image/png": "[encoded data removed]",
            "text/plain": [
              "<Figure size 432x288 with 1 Axes>"
            ]
          },
          "metadata": {
            "tags": [],
            "needs_background": "light"
          }
        },
        {
          "output_type": "display_data",
          "data": {
            "image/png": "[encoded data removed]",
            "text/plain": [
              "<Figure size 432x288 with 1 Axes>"
            ]
          },
          "metadata": {
            "tags": [],
            "needs_background": "light"
          }
        },
        {
          "output_type": "display_data",
          "data": {
            "image/png": "[encoded data removed]",
            "text/plain": [
              "<Figure size 432x288 with 1 Axes>"
            ]
          },
          "metadata": {
            "tags": [],
            "needs_background": "light"
          }
        }
      ]
    },
    {
      "cell_type": "code",
      "metadata": {
        "colab": {
          "base_uri": "https://localhost:8080/",
          "height": 1000
        },
        "id": "ETl1lLsUjrRu",
        "outputId": "559625f8-017a-4019-9936-d618eb3c841e"
      },
      "source": [
        "## object type columns\n",
        "for column in Train.select_dtypes(include='object'):\n",
        "    if Train[column].nunique() < 10:\n",
        "        sns.countplot(y=column, data=Train)\n",
        "        plt.show()\n",
        "\n",
        "## vast difference in columns\n",
        "\"\"\"\n",
        "1. Income Stability\n",
        "2. Profession -- Removes rows with less occurences\n",
        "3. Location\n",
        "4. Expense Type 1\n",
        "5. Expense Type 2\n",
        "\"\"\""
      ],
      "execution_count": 60,
      "outputs": [
        {
          "output_type": "display_data",
          "data": {
            "image/png": "[encoded data removed]",
            "text/plain": [
              "<Figure size 432x288 with 1 Axes>"
            ]
          },
          "metadata": {
            "tags": [],
            "needs_background": "light"
          }
        },
        {
          "output_type": "display_data",
          "data": {
            "image/png": "[encoded data removed]",
            "text/plain": [
              "<Figure size 432x288 with 1 Axes>"
            ]
          },
          "metadata": {
            "tags": [],
            "needs_background": "light"
          }
        },
        {
          "output_type": "display_data",
          "data": {
            "image/png": "[encoded data removed]",
            "text/plain": [
              "<Figure size 432x288 with 1 Axes>"
            ]
          },
          "metadata": {
            "tags": [],
            "needs_background": "light"
          }
        },
        {
          "output_type": "display_data",
          "data": {
            "image/png": "[encoded data removed]",
            "text/plain": [
              "<Figure size 432x288 with 1 Axes>"
            ]
          },
          "metadata": {
            "tags": [],
            "needs_background": "light"
          }
        },
        {
          "output_type": "display_data",
          "data": {
            "image/png": "[encoded data removed]",
            "text/plain": [
              "<Figure size 432x288 with 1 Axes>"
            ]
          },
          "metadata": {
            "tags": [],
            "needs_background": "light"
          }
        },
        {
          "output_type": "display_data",
          "data": {
            "image/png": "[encoded data removed]",
            "text/plain": [
              "<Figure size 432x288 with 1 Axes>"
            ]
          },
          "metadata": {
            "tags": [],
            "needs_background": "light"
          }
        },
        {
          "output_type": "display_data",
          "data": {
            "image/png": "[encoded data removed]",
            "text/plain": [
              "<Figure size 432x288 with 1 Axes>"
            ]
          },
          "metadata": {
            "tags": [],
            "needs_background": "light"
          }
        },
        {
          "output_type": "display_data",
          "data": {
            "image/png": "[encoded data removed]",
            "text/plain": [
              "<Figure size 432x288 with 1 Axes>"
            ]
          },
          "metadata": {
            "tags": [],
            "needs_background": "light"
          }
        },
        {
          "output_type": "execute_result",
          "data": {
            "application/vnd.google.colaboratory.intrinsic+json": {
              "type": "string"
            },
            "text/plain": [
              "'\\n1. Income Stability\\n2. Profession -- Removes rows with less occurences\\n3. Location\\n4. Expense Type 1\\n5. Expense Type 2\\n'"
            ]
          },
          "metadata": {
            "tags": []
          },
          "execution_count": 60
        }
      ]
    },
    {
      "cell_type": "code",
      "metadata": {
        "id": "aoReCi7Emh13"
      },
      "source": [
        "## 1.Remove all the null values\n",
        "## 2.Normalize the data"
      ],
      "execution_count": 62,
      "outputs": []
    }
  ]
}